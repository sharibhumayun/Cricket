{
  "nbformat": 4,
  "nbformat_minor": 0,
  "metadata": {
    "colab": {
      "name": "ODI_score_prediction.ipynb",
      "provenance": [],
      "include_colab_link": true
    },
    "kernelspec": {
      "name": "python3",
      "display_name": "Python 3"
    },
    "language_info": {
      "name": "python"
    }
  },
  "cells": [
    {
      "cell_type": "markdown",
      "metadata": {
        "id": "view-in-github",
        "colab_type": "text"
      },
      "source": [
        "<a href=\"https://colab.research.google.com/github/sharibhumayun/Cricket/blob/master/ODI_score_prediction.ipynb\" target=\"_parent\"><img src=\"https://colab.research.google.com/assets/colab-badge.svg\" alt=\"Open In Colab\"/></a>"
      ]
    },
    {
      "cell_type": "code",
      "metadata": {
        "colab": {
          "base_uri": "https://localhost:8080/",
          "height": 204
        },
        "id": "M_6Dw-k7WhpT",
        "outputId": "a362f757-11d8-4785-faf5-9bccfca024df"
      },
      "source": [
        "import pandas as pd\n",
        "path = 'https://raw.githubusercontent.com/codophobia/CricketScorePredictor/master/data/odi.csv'\n",
        "df = pd.read_csv(path)\n",
        "df.head()"
      ],
      "execution_count": null,
      "outputs": [
        {
          "output_type": "execute_result",
          "data": {
            "text/html": [
              "<div>\n",
              "<style scoped>\n",
              "    .dataframe tbody tr th:only-of-type {\n",
              "        vertical-align: middle;\n",
              "    }\n",
              "\n",
              "    .dataframe tbody tr th {\n",
              "        vertical-align: top;\n",
              "    }\n",
              "\n",
              "    .dataframe thead th {\n",
              "        text-align: right;\n",
              "    }\n",
              "</style>\n",
              "<table border=\"1\" class=\"dataframe\">\n",
              "  <thead>\n",
              "    <tr style=\"text-align: right;\">\n",
              "      <th></th>\n",
              "      <th>mid</th>\n",
              "      <th>date</th>\n",
              "      <th>venue</th>\n",
              "      <th>bat_team</th>\n",
              "      <th>bowl_team</th>\n",
              "      <th>batsman</th>\n",
              "      <th>bowler</th>\n",
              "      <th>runs</th>\n",
              "      <th>wickets</th>\n",
              "      <th>overs</th>\n",
              "      <th>runs_last_5</th>\n",
              "      <th>wickets_last_5</th>\n",
              "      <th>striker</th>\n",
              "      <th>non-striker</th>\n",
              "      <th>total</th>\n",
              "    </tr>\n",
              "  </thead>\n",
              "  <tbody>\n",
              "    <tr>\n",
              "      <th>0</th>\n",
              "      <td>1</td>\n",
              "      <td>2006-06-13</td>\n",
              "      <td>Civil Service Cricket Club, Stormont</td>\n",
              "      <td>England</td>\n",
              "      <td>Ireland</td>\n",
              "      <td>ME Trescothick</td>\n",
              "      <td>DT Johnston</td>\n",
              "      <td>0</td>\n",
              "      <td>0</td>\n",
              "      <td>0.1</td>\n",
              "      <td>0</td>\n",
              "      <td>0</td>\n",
              "      <td>0</td>\n",
              "      <td>0</td>\n",
              "      <td>301</td>\n",
              "    </tr>\n",
              "    <tr>\n",
              "      <th>1</th>\n",
              "      <td>1</td>\n",
              "      <td>2006-06-13</td>\n",
              "      <td>Civil Service Cricket Club, Stormont</td>\n",
              "      <td>England</td>\n",
              "      <td>Ireland</td>\n",
              "      <td>ME Trescothick</td>\n",
              "      <td>DT Johnston</td>\n",
              "      <td>0</td>\n",
              "      <td>0</td>\n",
              "      <td>0.2</td>\n",
              "      <td>0</td>\n",
              "      <td>0</td>\n",
              "      <td>0</td>\n",
              "      <td>0</td>\n",
              "      <td>301</td>\n",
              "    </tr>\n",
              "    <tr>\n",
              "      <th>2</th>\n",
              "      <td>1</td>\n",
              "      <td>2006-06-13</td>\n",
              "      <td>Civil Service Cricket Club, Stormont</td>\n",
              "      <td>England</td>\n",
              "      <td>Ireland</td>\n",
              "      <td>ME Trescothick</td>\n",
              "      <td>DT Johnston</td>\n",
              "      <td>4</td>\n",
              "      <td>0</td>\n",
              "      <td>0.3</td>\n",
              "      <td>4</td>\n",
              "      <td>0</td>\n",
              "      <td>0</td>\n",
              "      <td>0</td>\n",
              "      <td>301</td>\n",
              "    </tr>\n",
              "    <tr>\n",
              "      <th>3</th>\n",
              "      <td>1</td>\n",
              "      <td>2006-06-13</td>\n",
              "      <td>Civil Service Cricket Club, Stormont</td>\n",
              "      <td>England</td>\n",
              "      <td>Ireland</td>\n",
              "      <td>ME Trescothick</td>\n",
              "      <td>DT Johnston</td>\n",
              "      <td>6</td>\n",
              "      <td>0</td>\n",
              "      <td>0.4</td>\n",
              "      <td>6</td>\n",
              "      <td>0</td>\n",
              "      <td>0</td>\n",
              "      <td>0</td>\n",
              "      <td>301</td>\n",
              "    </tr>\n",
              "    <tr>\n",
              "      <th>4</th>\n",
              "      <td>1</td>\n",
              "      <td>2006-06-13</td>\n",
              "      <td>Civil Service Cricket Club, Stormont</td>\n",
              "      <td>England</td>\n",
              "      <td>Ireland</td>\n",
              "      <td>ME Trescothick</td>\n",
              "      <td>DT Johnston</td>\n",
              "      <td>6</td>\n",
              "      <td>0</td>\n",
              "      <td>0.5</td>\n",
              "      <td>6</td>\n",
              "      <td>0</td>\n",
              "      <td>0</td>\n",
              "      <td>0</td>\n",
              "      <td>301</td>\n",
              "    </tr>\n",
              "  </tbody>\n",
              "</table>\n",
              "</div>"
            ],
            "text/plain": [
              "   mid        date  ... non-striker total\n",
              "0    1  2006-06-13  ...           0   301\n",
              "1    1  2006-06-13  ...           0   301\n",
              "2    1  2006-06-13  ...           0   301\n",
              "3    1  2006-06-13  ...           0   301\n",
              "4    1  2006-06-13  ...           0   301\n",
              "\n",
              "[5 rows x 15 columns]"
            ]
          },
          "metadata": {
            "tags": []
          },
          "execution_count": 60
        }
      ]
    },
    {
      "cell_type": "code",
      "metadata": {
        "colab": {
          "base_uri": "https://localhost:8080/"
        },
        "id": "Ebx-mzTdYI5u",
        "outputId": "ef02c99d-52d0-4651-a7e8-0dad89c2ea0b"
      },
      "source": [
        "df.columns"
      ],
      "execution_count": null,
      "outputs": [
        {
          "output_type": "execute_result",
          "data": {
            "text/plain": [
              "Index(['mid', 'date', 'venue', 'bat_team', 'bowl_team', 'batsman', 'bowler',\n",
              "       'runs', 'wickets', 'overs', 'runs_last_5', 'wickets_last_5', 'striker',\n",
              "       'non-striker', 'total'],\n",
              "      dtype='object')"
            ]
          },
          "metadata": {
            "tags": []
          },
          "execution_count": 61
        }
      ]
    },
    {
      "cell_type": "code",
      "metadata": {
        "colab": {
          "base_uri": "https://localhost:8080/"
        },
        "id": "RveBVvyxY2tv",
        "outputId": "909f89f9-e0c8-429c-ce76-38fd75973664"
      },
      "source": [
        "df.shape"
      ],
      "execution_count": null,
      "outputs": [
        {
          "output_type": "execute_result",
          "data": {
            "text/plain": [
              "(350899, 15)"
            ]
          },
          "metadata": {
            "tags": []
          },
          "execution_count": 62
        }
      ]
    },
    {
      "cell_type": "code",
      "metadata": {
        "colab": {
          "base_uri": "https://localhost:8080/",
          "height": 204
        },
        "id": "B2cbmKO4Y7Qv",
        "outputId": "fdb882d3-2d10-4cd8-8e6f-7b6efc232108"
      },
      "source": [
        "df.tail()"
      ],
      "execution_count": null,
      "outputs": [
        {
          "output_type": "execute_result",
          "data": {
            "text/html": [
              "<div>\n",
              "<style scoped>\n",
              "    .dataframe tbody tr th:only-of-type {\n",
              "        vertical-align: middle;\n",
              "    }\n",
              "\n",
              "    .dataframe tbody tr th {\n",
              "        vertical-align: top;\n",
              "    }\n",
              "\n",
              "    .dataframe thead th {\n",
              "        text-align: right;\n",
              "    }\n",
              "</style>\n",
              "<table border=\"1\" class=\"dataframe\">\n",
              "  <thead>\n",
              "    <tr style=\"text-align: right;\">\n",
              "      <th></th>\n",
              "      <th>mid</th>\n",
              "      <th>date</th>\n",
              "      <th>venue</th>\n",
              "      <th>bat_team</th>\n",
              "      <th>bowl_team</th>\n",
              "      <th>batsman</th>\n",
              "      <th>bowler</th>\n",
              "      <th>runs</th>\n",
              "      <th>wickets</th>\n",
              "      <th>overs</th>\n",
              "      <th>runs_last_5</th>\n",
              "      <th>wickets_last_5</th>\n",
              "      <th>striker</th>\n",
              "      <th>non-striker</th>\n",
              "      <th>total</th>\n",
              "    </tr>\n",
              "  </thead>\n",
              "  <tbody>\n",
              "    <tr>\n",
              "      <th>350894</th>\n",
              "      <td>1188</td>\n",
              "      <td>2017-07-10</td>\n",
              "      <td>Mahinda Rajapaksa International Cricket Stadiu...</td>\n",
              "      <td>Sri Lanka</td>\n",
              "      <td>Zimbabwe</td>\n",
              "      <td>DAS Gunaratne</td>\n",
              "      <td>TL Chatara</td>\n",
              "      <td>201</td>\n",
              "      <td>8</td>\n",
              "      <td>49.2</td>\n",
              "      <td>39</td>\n",
              "      <td>0</td>\n",
              "      <td>59</td>\n",
              "      <td>18</td>\n",
              "      <td>203</td>\n",
              "    </tr>\n",
              "    <tr>\n",
              "      <th>350895</th>\n",
              "      <td>1188</td>\n",
              "      <td>2017-07-10</td>\n",
              "      <td>Mahinda Rajapaksa International Cricket Stadiu...</td>\n",
              "      <td>Sri Lanka</td>\n",
              "      <td>Zimbabwe</td>\n",
              "      <td>DAS Gunaratne</td>\n",
              "      <td>TL Chatara</td>\n",
              "      <td>201</td>\n",
              "      <td>8</td>\n",
              "      <td>49.3</td>\n",
              "      <td>39</td>\n",
              "      <td>0</td>\n",
              "      <td>59</td>\n",
              "      <td>18</td>\n",
              "      <td>203</td>\n",
              "    </tr>\n",
              "    <tr>\n",
              "      <th>350896</th>\n",
              "      <td>1188</td>\n",
              "      <td>2017-07-10</td>\n",
              "      <td>Mahinda Rajapaksa International Cricket Stadiu...</td>\n",
              "      <td>Sri Lanka</td>\n",
              "      <td>Zimbabwe</td>\n",
              "      <td>DAS Gunaratne</td>\n",
              "      <td>TL Chatara</td>\n",
              "      <td>201</td>\n",
              "      <td>8</td>\n",
              "      <td>49.4</td>\n",
              "      <td>38</td>\n",
              "      <td>0</td>\n",
              "      <td>59</td>\n",
              "      <td>18</td>\n",
              "      <td>203</td>\n",
              "    </tr>\n",
              "    <tr>\n",
              "      <th>350897</th>\n",
              "      <td>1188</td>\n",
              "      <td>2017-07-10</td>\n",
              "      <td>Mahinda Rajapaksa International Cricket Stadiu...</td>\n",
              "      <td>Sri Lanka</td>\n",
              "      <td>Zimbabwe</td>\n",
              "      <td>DAS Gunaratne</td>\n",
              "      <td>TL Chatara</td>\n",
              "      <td>202</td>\n",
              "      <td>8</td>\n",
              "      <td>49.5</td>\n",
              "      <td>38</td>\n",
              "      <td>0</td>\n",
              "      <td>59</td>\n",
              "      <td>18</td>\n",
              "      <td>203</td>\n",
              "    </tr>\n",
              "    <tr>\n",
              "      <th>350898</th>\n",
              "      <td>1188</td>\n",
              "      <td>2017-07-10</td>\n",
              "      <td>Mahinda Rajapaksa International Cricket Stadiu...</td>\n",
              "      <td>Sri Lanka</td>\n",
              "      <td>Zimbabwe</td>\n",
              "      <td>PVD Chameera</td>\n",
              "      <td>TL Chatara</td>\n",
              "      <td>203</td>\n",
              "      <td>8</td>\n",
              "      <td>49.6</td>\n",
              "      <td>38</td>\n",
              "      <td>0</td>\n",
              "      <td>59</td>\n",
              "      <td>18</td>\n",
              "      <td>203</td>\n",
              "    </tr>\n",
              "  </tbody>\n",
              "</table>\n",
              "</div>"
            ],
            "text/plain": [
              "         mid        date  ... non-striker total\n",
              "350894  1188  2017-07-10  ...          18   203\n",
              "350895  1188  2017-07-10  ...          18   203\n",
              "350896  1188  2017-07-10  ...          18   203\n",
              "350897  1188  2017-07-10  ...          18   203\n",
              "350898  1188  2017-07-10  ...          18   203\n",
              "\n",
              "[5 rows x 15 columns]"
            ]
          },
          "metadata": {
            "tags": []
          },
          "execution_count": 63
        }
      ]
    },
    {
      "cell_type": "code",
      "metadata": {
        "id": "35mF3H5wf1e5"
      },
      "source": [
        "x= df[['runs','wickets', 'overs','runs_last_5',\t'wickets_last_5', 'striker', 'non-striker']]\n",
        "y = df['total']"
      ],
      "execution_count": null,
      "outputs": []
    },
    {
      "cell_type": "code",
      "metadata": {
        "id": "xRs-QA4rmX5l"
      },
      "source": [
        "from sklearn.model_selection import train_test_split\n",
        "x_train, x_test, y_train, y_test = train_test_split(x,y,test_size= 0.25, random_state = 0)"
      ],
      "execution_count": null,
      "outputs": []
    },
    {
      "cell_type": "code",
      "metadata": {
        "id": "69zn6mDQm6R7"
      },
      "source": [
        "from sklearn.preprocessing import StandardScaler\n",
        "sc= StandardScaler()\n",
        "x_train = sc.fit_transform(x_train)\n",
        "x_test = sc.transform(x_test)"
      ],
      "execution_count": null,
      "outputs": []
    },
    {
      "cell_type": "code",
      "metadata": {
        "colab": {
          "base_uri": "https://localhost:8080/"
        },
        "id": "Wi0cr_Wxndrp",
        "outputId": "f1b6659a-d09d-4d2f-cd89-f6d9194952a0"
      },
      "source": [
        "from sklearn.linear_model import LinearRegression\n",
        "lr = LinearRegression()\n",
        "lr.fit(x_train,y_train)"
      ],
      "execution_count": null,
      "outputs": [
        {
          "output_type": "execute_result",
          "data": {
            "text/plain": [
              "LinearRegression(copy_X=True, fit_intercept=True, n_jobs=None, normalize=False)"
            ]
          },
          "metadata": {
            "tags": []
          },
          "execution_count": 67
        }
      ]
    },
    {
      "cell_type": "code",
      "metadata": {
        "colab": {
          "base_uri": "https://localhost:8080/"
        },
        "id": "bQCgAVJEnfLY",
        "outputId": "2614314c-dd2f-4a98-e584-0394bac70cd9"
      },
      "source": [
        "y_pred= lr.predict(x_test)\n",
        "score = lr.score(x_test,y_test)*100\n",
        "score"
      ],
      "execution_count": null,
      "outputs": [
        {
          "output_type": "execute_result",
          "data": {
            "text/plain": [
              "52.93771818075743"
            ]
          },
          "metadata": {
            "tags": []
          },
          "execution_count": 68
        }
      ]
    },
    {
      "cell_type": "code",
      "metadata": {
        "colab": {
          "base_uri": "https://localhost:8080/"
        },
        "id": "c-g0jKK-wkNy",
        "outputId": "862d45df-47e8-45b5-ab61-13b18e56ab75"
      },
      "source": [
        "from sklearn.ensemble import RandomForestRegressor\n",
        "rf= RandomForestRegressor(n_estimators=200)\n",
        "rf.fit(x_train,y_train)"
      ],
      "execution_count": null,
      "outputs": [
        {
          "output_type": "execute_result",
          "data": {
            "text/plain": [
              "RandomForestRegressor(bootstrap=True, ccp_alpha=0.0, criterion='mse',\n",
              "                      max_depth=None, max_features='auto', max_leaf_nodes=None,\n",
              "                      max_samples=None, min_impurity_decrease=0.0,\n",
              "                      min_impurity_split=None, min_samples_leaf=1,\n",
              "                      min_samples_split=2, min_weight_fraction_leaf=0.0,\n",
              "                      n_estimators=200, n_jobs=None, oob_score=False,\n",
              "                      random_state=None, verbose=0, warm_start=False)"
            ]
          },
          "metadata": {
            "tags": []
          },
          "execution_count": 69
        }
      ]
    },
    {
      "cell_type": "code",
      "metadata": {
        "colab": {
          "base_uri": "https://localhost:8080/"
        },
        "id": "iMCF2DrnrHLr",
        "outputId": "f8fa39d6-dce8-482f-d3d8-8c318809072f"
      },
      "source": [
        "y_pred2= rf.predict(x_test)\n",
        "score2 = rf.score(x_test,y_test)*100\n",
        "score2"
      ],
      "execution_count": null,
      "outputs": [
        {
          "output_type": "execute_result",
          "data": {
            "text/plain": [
              "80.87778957556758"
            ]
          },
          "metadata": {
            "tags": []
          },
          "execution_count": 70
        }
      ]
    },
    {
      "cell_type": "code",
      "metadata": {
        "id": "3nCDCM0Rrgpb"
      },
      "source": [
        "import matplotlib.pyplot as plt\n",
        "%matplotlib inline\n",
        "import seaborn as sn\n"
      ],
      "execution_count": null,
      "outputs": []
    },
    {
      "cell_type": "code",
      "metadata": {
        "colab": {
          "base_uri": "https://localhost:8080/",
          "height": 350
        },
        "id": "6hklPSmlsrVP",
        "outputId": "899c065f-9856-4144-b525-f4b8208751f2"
      },
      "source": [
        "sn.regplot(y_test,y_pred2, data = df, color='g',line_kws=None)"
      ],
      "execution_count": null,
      "outputs": [
        {
          "output_type": "stream",
          "text": [
            "/usr/local/lib/python3.7/dist-packages/seaborn/_decorators.py:43: FutureWarning: Pass the following variables as keyword args: x, y. From version 0.12, the only valid positional argument will be `data`, and passing other arguments without an explicit keyword will result in an error or misinterpretation.\n",
            "  FutureWarning\n"
          ],
          "name": "stderr"
        },
        {
          "output_type": "execute_result",
          "data": {
            "text/plain": [
              "<matplotlib.axes._subplots.AxesSubplot at 0x7f8fe089fc10>"
            ]
          },
          "metadata": {
            "tags": []
          },
          "execution_count": 72
        },
        {
          "output_type": "display_data",
          "data": {
            "image/png": "[encoded data removed]",
            "text/plain": [
              "<Figure size 432x288 with 1 Axes>"
            ]
          },
          "metadata": {
            "tags": [],
            "needs_background": "light"
          }
        }
      ]
    },
    {
      "cell_type": "code",
      "metadata": {
        "id": "uAtZN313s7ux"
      },
      "source": [
        "import numpy as np \n",
        "new_prediction = rf.predict(sc.transform(np.array([[100,0,13,20,0,50,50]])))\n"
      ],
      "execution_count": null,
      "outputs": []
    },
    {
      "cell_type": "code",
      "metadata": {
        "colab": {
          "base_uri": "https://localhost:8080/"
        },
        "id": "p13Z1oqqysJT",
        "outputId": "d5a17ffc-e7d6-43cc-987b-461ea6598330"
      },
      "source": [
        "new_prediction"
      ],
      "execution_count": null,
      "outputs": [
        {
          "output_type": "execute_result",
          "data": {
            "text/plain": [
              "array([343.65])"
            ]
          },
          "metadata": {
            "tags": []
          },
          "execution_count": 75
        }
      ]
    },
    {
      "cell_type": "code",
      "metadata": {
        "colab": {
          "base_uri": "https://localhost:8080/"
        },
        "id": "xuwWDAquyv8_",
        "outputId": "b0c2b28a-7b30-4c4e-ecf1-8f011ba4645a"
      },
      "source": [
        "new_prediction = rf.predict(sc.transform(np.array([[100,2,21,22,0,31,23]])))\n",
        "new_prediction"
      ],
      "execution_count": null,
      "outputs": [
        {
          "output_type": "execute_result",
          "data": {
            "text/plain": [
              "array([287.27])"
            ]
          },
          "metadata": {
            "tags": []
          },
          "execution_count": 82
        }
      ]
    }
  ]
}